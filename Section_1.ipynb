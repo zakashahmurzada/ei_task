{
 "cells": [
  {
   "cell_type": "code",
   "execution_count": 63,
   "id": "0ebe1761-b578-4d24-9efa-8049a406ed61",
   "metadata": {},
   "outputs": [],
   "source": [
    "import pandas as pd\n",
    "import numpy as np"
   ]
  },
  {
   "cell_type": "code",
   "execution_count": 65,
   "id": "c5e36f50-1abf-45e9-817c-7556911e0bfc",
   "metadata": {},
   "outputs": [
    {
     "name": "stdout",
     "output_type": "stream",
     "text": [
      "<class 'pandas.core.frame.DataFrame'>\n",
      "RangeIndex: 227581 entries, 0 to 227580\n",
      "Data columns (total 11 columns):\n",
      " #   Column                    Non-Null Count   Dtype  \n",
      "---  ------                    --------------   -----  \n",
      " 0   Review_Date               227581 non-null  object \n",
      " 1   Review_Text               227580 non-null  object \n",
      " 2   User_ID                   227581 non-null  object \n",
      " 3   Business_ID               227581 non-null  object \n",
      " 4   Business_Name             227581 non-null  object \n",
      " 5   Business_Category         227297 non-null  object \n",
      " 6   City                      227581 non-null  object \n",
      " 7   State                     227581 non-null  object \n",
      " 8   Latitude                  227581 non-null  float64\n",
      " 9   Longitude                 227581 non-null  float64\n",
      " 10  Avg_Business_Star_Rating  227581 non-null  float64\n",
      "dtypes: float64(3), object(8)\n",
      "memory usage: 19.1+ MB\n"
     ]
    }
   ],
   "source": [
    "df = pd.read_csv(\"C:/Users/user/Desktop/ei-group_data_science/Section 1 data.csv\")\n",
    "df = pd.DataFrame(df)\n",
    "df.info()"
   ]
  },
  {
   "cell_type": "code",
   "execution_count": 66,
   "id": "de7507c1-7bd8-496d-8dbb-e1d39661faea",
   "metadata": {},
   "outputs": [
    {
     "data": {
      "text/html": [
       "<div>\n",
       "<style scoped>\n",
       "    .dataframe tbody tr th:only-of-type {\n",
       "        vertical-align: middle;\n",
       "    }\n",
       "\n",
       "    .dataframe tbody tr th {\n",
       "        vertical-align: top;\n",
       "    }\n",
       "\n",
       "    .dataframe thead th {\n",
       "        text-align: right;\n",
       "    }\n",
       "</style>\n",
       "<table border=\"1\" class=\"dataframe\">\n",
       "  <thead>\n",
       "    <tr style=\"text-align: right;\">\n",
       "      <th></th>\n",
       "      <th>Review_Date</th>\n",
       "      <th>Review_Text</th>\n",
       "      <th>User_ID</th>\n",
       "      <th>Business_ID</th>\n",
       "      <th>Business_Name</th>\n",
       "      <th>Business_Category</th>\n",
       "      <th>City</th>\n",
       "      <th>State</th>\n",
       "      <th>Latitude</th>\n",
       "      <th>Longitude</th>\n",
       "      <th>Avg_Business_Star_Rating</th>\n",
       "    </tr>\n",
       "  </thead>\n",
       "  <tbody>\n",
       "    <tr>\n",
       "      <th>0</th>\n",
       "      <td>2014-07-16</td>\n",
       "      <td>okay...so so</td>\n",
       "      <td>6VxJJX7h36bMCCFt7URg6w</td>\n",
       "      <td>9QqLqYIwV-n1BJPjnaYv8A</td>\n",
       "      <td>Beef 'O' Brady's</td>\n",
       "      <td>Bars</td>\n",
       "      <td>Chandler</td>\n",
       "      <td>AZ</td>\n",
       "      <td>33.303847</td>\n",
       "      <td>-111.946838</td>\n",
       "      <td>3.5</td>\n",
       "    </tr>\n",
       "    <tr>\n",
       "      <th>1</th>\n",
       "      <td>2014-07-16</td>\n",
       "      <td>Some people complain about the prices but Subw...</td>\n",
       "      <td>viGPiPuMZnV4PR_aiA3-qw</td>\n",
       "      <td>pNQwnY_q4okdlnPiR-3RBA</td>\n",
       "      <td>Empire Bagels</td>\n",
       "      <td>Food</td>\n",
       "      <td>Las Vegas</td>\n",
       "      <td>NV</td>\n",
       "      <td>36.077299</td>\n",
       "      <td>-115.297979</td>\n",
       "      <td>3.5</td>\n",
       "    </tr>\n",
       "    <tr>\n",
       "      <th>2</th>\n",
       "      <td>2014-07-16</td>\n",
       "      <td>Had red curry chicken, the chicken itself was ...</td>\n",
       "      <td>rwehMCinfBjhZ0IbR1zFBw</td>\n",
       "      <td>shCdCHRbnY5FTMJbWl-myQ</td>\n",
       "      <td>Thai Spices</td>\n",
       "      <td>Thai</td>\n",
       "      <td>Mesa</td>\n",
       "      <td>AZ</td>\n",
       "      <td>33.412708</td>\n",
       "      <td>-111.875803</td>\n",
       "      <td>4.0</td>\n",
       "    </tr>\n",
       "    <tr>\n",
       "      <th>3</th>\n",
       "      <td>2014-07-16</td>\n",
       "      <td>Alright, I gave the restaurant manager ample t...</td>\n",
       "      <td>VWqt5IH8fm-k9M0CKFkJzg</td>\n",
       "      <td>HpaYCM_NCauI72LLXxC6SA</td>\n",
       "      <td>Yonaka Modern Japanese</td>\n",
       "      <td>Tapas/Small Plates</td>\n",
       "      <td>Las Vegas</td>\n",
       "      <td>NV</td>\n",
       "      <td>36.114935</td>\n",
       "      <td>-115.209737</td>\n",
       "      <td>4.5</td>\n",
       "    </tr>\n",
       "    <tr>\n",
       "      <th>4</th>\n",
       "      <td>2014-07-16</td>\n",
       "      <td>Blehhhh :/ this place shouldn't even be in bus...</td>\n",
       "      <td>Y6-0ToMhjBsm8iYEaT2meg</td>\n",
       "      <td>FC4q3hJyF8oo984xoo3RMg</td>\n",
       "      <td>808 Sushi</td>\n",
       "      <td>Sushi Bars</td>\n",
       "      <td>Las Vegas</td>\n",
       "      <td>NV</td>\n",
       "      <td>36.052181</td>\n",
       "      <td>-115.279227</td>\n",
       "      <td>3.5</td>\n",
       "    </tr>\n",
       "  </tbody>\n",
       "</table>\n",
       "</div>"
      ],
      "text/plain": [
       "  Review_Date                                        Review_Text  \\\n",
       "0  2014-07-16                                       okay...so so   \n",
       "1  2014-07-16  Some people complain about the prices but Subw...   \n",
       "2  2014-07-16  Had red curry chicken, the chicken itself was ...   \n",
       "3  2014-07-16  Alright, I gave the restaurant manager ample t...   \n",
       "4  2014-07-16  Blehhhh :/ this place shouldn't even be in bus...   \n",
       "\n",
       "                  User_ID             Business_ID           Business_Name  \\\n",
       "0  6VxJJX7h36bMCCFt7URg6w  9QqLqYIwV-n1BJPjnaYv8A        Beef 'O' Brady's   \n",
       "1  viGPiPuMZnV4PR_aiA3-qw  pNQwnY_q4okdlnPiR-3RBA           Empire Bagels   \n",
       "2  rwehMCinfBjhZ0IbR1zFBw  shCdCHRbnY5FTMJbWl-myQ             Thai Spices   \n",
       "3  VWqt5IH8fm-k9M0CKFkJzg  HpaYCM_NCauI72LLXxC6SA  Yonaka Modern Japanese   \n",
       "4  Y6-0ToMhjBsm8iYEaT2meg  FC4q3hJyF8oo984xoo3RMg               808 Sushi   \n",
       "\n",
       "    Business_Category       City State   Latitude   Longitude  \\\n",
       "0                Bars   Chandler    AZ  33.303847 -111.946838   \n",
       "1                Food  Las Vegas    NV  36.077299 -115.297979   \n",
       "2                Thai       Mesa    AZ  33.412708 -111.875803   \n",
       "3  Tapas/Small Plates  Las Vegas    NV  36.114935 -115.209737   \n",
       "4          Sushi Bars  Las Vegas    NV  36.052181 -115.279227   \n",
       "\n",
       "   Avg_Business_Star_Rating  \n",
       "0                       3.5  \n",
       "1                       3.5  \n",
       "2                       4.0  \n",
       "3                       4.5  \n",
       "4                       3.5  "
      ]
     },
     "execution_count": 66,
     "metadata": {},
     "output_type": "execute_result"
    }
   ],
   "source": [
    "df.head()"
   ]
  },
  {
   "cell_type": "code",
   "execution_count": 67,
   "id": "f99423d3-bd00-4d68-93c1-babb86659d46",
   "metadata": {},
   "outputs": [],
   "source": [
    "df['Review_Date'] = pd.to_datetime(df['Review_Date'] )"
   ]
  },
  {
   "cell_type": "code",
   "execution_count": 68,
   "id": "b1597ee6-94b3-411e-bff2-2149802177d4",
   "metadata": {},
   "outputs": [
    {
     "data": {
      "text/plain": [
       "30276"
      ]
     },
     "execution_count": 68,
     "metadata": {},
     "output_type": "execute_result"
    }
   ],
   "source": [
    "#Task 1\n",
    "uni_res = df['Business_ID'].nunique()\n",
    "uni_res"
   ]
  },
  {
   "cell_type": "code",
   "execution_count": 69,
   "id": "0e62b14a-d241-436a-9aa7-550eded59dd4",
   "metadata": {},
   "outputs": [
    {
     "name": "stdout",
     "output_type": "stream",
     "text": [
      "0.37612981751552194\n",
      "Mon Ami Gabi\n"
     ]
    }
   ],
   "source": [
    "#Task 2\n",
    "review_res = df['Business_ID'].value_counts()\n",
    "high_rev_id = review_res.idxmax()\n",
    "high_name = df[df['Business_ID'] == high_rev_id]['Business_Name'].iloc[0]\n",
    "high_percentage = (review_res.max() / len(df)) * 100\n",
    "print(high_percentage)\n",
    "print(high_name)"
   ]
  },
  {
   "cell_type": "code",
   "execution_count": 70,
   "id": "9fd332bf-9240-4a80-a64b-4e28cf77e3d1",
   "metadata": {},
   "outputs": [
    {
     "name": "stdout",
     "output_type": "stream",
     "text": [
      "['Las Vegas' 'Henderson' 'Boulder City' 'Nellis']\n"
     ]
    }
   ],
   "source": [
    "#Task 3\n",
    "five_stars = df[(df['State'] == 'NV') & (df['Avg_Business_Star_Rating'] == 5)]\n",
    "citys_five_stars = five_stars['City'].unique()\n",
    "\n",
    "print(citys_five_stars)"
   ]
  },
  {
   "cell_type": "code",
   "execution_count": 71,
   "id": "3c1d6a13-590b-427b-b5f8-4c9fca10d6eb",
   "metadata": {},
   "outputs": [
    {
     "data": {
      "text/plain": [
       "77.64304660856385"
      ]
     },
     "execution_count": 71,
     "metadata": {},
     "output_type": "execute_result"
    }
   ],
   "source": [
    "#Task 4\n",
    "hotels_and_travel_reviews = df[df['Business_Category'] == 'Hotels & Travel']\n",
    "reviews_per_city = hotels_and_travel_reviews['City'].value_counts()\n",
    "highest_reviewed_city = reviews_per_city.idxmax()\n",
    "highest_reviewed_city_percentage = (reviews_per_city.max() / len(hotels_and_travel_reviews)) * 100\n",
    "highest_reviewed_city_percentage"
   ]
  },
  {
   "cell_type": "code",
   "execution_count": 79,
   "id": "e0bbbd22-1cf8-4115-9409-cdeebf2ce887",
   "metadata": {},
   "outputs": [
    {
     "name": "stdout",
     "output_type": "stream",
     "text": [
      "<class 'pandas.core.frame.DataFrame'>\n",
      "RangeIndex: 227581 entries, 0 to 227580\n",
      "Data columns (total 11 columns):\n",
      " #   Column                    Non-Null Count   Dtype         \n",
      "---  ------                    --------------   -----         \n",
      " 0   Review_Date               227581 non-null  datetime64[ns]\n",
      " 1   Review_Text               227580 non-null  object        \n",
      " 2   User_ID                   227581 non-null  object        \n",
      " 3   Business_ID               227581 non-null  object        \n",
      " 4   Business_Name             227581 non-null  object        \n",
      " 5   Business_Category         227297 non-null  object        \n",
      " 6   City                      227581 non-null  object        \n",
      " 7   State                     227581 non-null  object        \n",
      " 8   Latitude                  227581 non-null  float64       \n",
      " 9   Longitude                 227581 non-null  float64       \n",
      " 10  Avg_Business_Star_Rating  227581 non-null  float64       \n",
      "dtypes: datetime64[ns](1), float64(3), object(7)\n",
      "memory usage: 19.1+ MB\n"
     ]
    }
   ],
   "source": [
    "df.info()"
   ]
  },
  {
   "cell_type": "code",
   "execution_count": 81,
   "id": "5ede4def-595f-4379-9ea8-651e68d4b2d5",
   "metadata": {},
   "outputs": [
    {
     "data": {
      "text/html": [
       "<div>\n",
       "<style scoped>\n",
       "    .dataframe tbody tr th:only-of-type {\n",
       "        vertical-align: middle;\n",
       "    }\n",
       "\n",
       "    .dataframe tbody tr th {\n",
       "        vertical-align: top;\n",
       "    }\n",
       "\n",
       "    .dataframe thead th {\n",
       "        text-align: right;\n",
       "    }\n",
       "</style>\n",
       "<table border=\"1\" class=\"dataframe\">\n",
       "  <thead>\n",
       "    <tr style=\"text-align: right;\">\n",
       "      <th></th>\n",
       "      <th>Review_Date</th>\n",
       "      <th>Review_Text</th>\n",
       "      <th>User_ID</th>\n",
       "      <th>Business_ID</th>\n",
       "      <th>Business_Name</th>\n",
       "      <th>Business_Category</th>\n",
       "      <th>City</th>\n",
       "      <th>State</th>\n",
       "      <th>Latitude</th>\n",
       "      <th>Longitude</th>\n",
       "      <th>Avg_Business_Star_Rating</th>\n",
       "    </tr>\n",
       "  </thead>\n",
       "  <tbody>\n",
       "    <tr>\n",
       "      <th>0</th>\n",
       "      <td>2014-07-16</td>\n",
       "      <td>okay...so so</td>\n",
       "      <td>6VxJJX7h36bMCCFt7URg6w</td>\n",
       "      <td>9QqLqYIwV-n1BJPjnaYv8A</td>\n",
       "      <td>Beef 'O' Brady's</td>\n",
       "      <td>Bars</td>\n",
       "      <td>Chandler</td>\n",
       "      <td>AZ</td>\n",
       "      <td>33.303847</td>\n",
       "      <td>-111.946838</td>\n",
       "      <td>3.5</td>\n",
       "    </tr>\n",
       "    <tr>\n",
       "      <th>1</th>\n",
       "      <td>2014-07-16</td>\n",
       "      <td>Some people complain about the prices but Subw...</td>\n",
       "      <td>viGPiPuMZnV4PR_aiA3-qw</td>\n",
       "      <td>pNQwnY_q4okdlnPiR-3RBA</td>\n",
       "      <td>Empire Bagels</td>\n",
       "      <td>Food</td>\n",
       "      <td>Las Vegas</td>\n",
       "      <td>NV</td>\n",
       "      <td>36.077299</td>\n",
       "      <td>-115.297979</td>\n",
       "      <td>3.5</td>\n",
       "    </tr>\n",
       "    <tr>\n",
       "      <th>2</th>\n",
       "      <td>2014-07-16</td>\n",
       "      <td>Had red curry chicken, the chicken itself was ...</td>\n",
       "      <td>rwehMCinfBjhZ0IbR1zFBw</td>\n",
       "      <td>shCdCHRbnY5FTMJbWl-myQ</td>\n",
       "      <td>Thai Spices</td>\n",
       "      <td>Thai</td>\n",
       "      <td>Mesa</td>\n",
       "      <td>AZ</td>\n",
       "      <td>33.412708</td>\n",
       "      <td>-111.875803</td>\n",
       "      <td>4.0</td>\n",
       "    </tr>\n",
       "    <tr>\n",
       "      <th>3</th>\n",
       "      <td>2014-07-16</td>\n",
       "      <td>Alright, I gave the restaurant manager ample t...</td>\n",
       "      <td>VWqt5IH8fm-k9M0CKFkJzg</td>\n",
       "      <td>HpaYCM_NCauI72LLXxC6SA</td>\n",
       "      <td>Yonaka Modern Japanese</td>\n",
       "      <td>Tapas/Small Plates</td>\n",
       "      <td>Las Vegas</td>\n",
       "      <td>NV</td>\n",
       "      <td>36.114935</td>\n",
       "      <td>-115.209737</td>\n",
       "      <td>4.5</td>\n",
       "    </tr>\n",
       "    <tr>\n",
       "      <th>4</th>\n",
       "      <td>2014-07-16</td>\n",
       "      <td>Blehhhh :/ this place shouldn't even be in bus...</td>\n",
       "      <td>Y6-0ToMhjBsm8iYEaT2meg</td>\n",
       "      <td>FC4q3hJyF8oo984xoo3RMg</td>\n",
       "      <td>808 Sushi</td>\n",
       "      <td>Sushi Bars</td>\n",
       "      <td>Las Vegas</td>\n",
       "      <td>NV</td>\n",
       "      <td>36.052181</td>\n",
       "      <td>-115.279227</td>\n",
       "      <td>3.5</td>\n",
       "    </tr>\n",
       "  </tbody>\n",
       "</table>\n",
       "</div>"
      ],
      "text/plain": [
       "  Review_Date                                        Review_Text  \\\n",
       "0  2014-07-16                                       okay...so so   \n",
       "1  2014-07-16  Some people complain about the prices but Subw...   \n",
       "2  2014-07-16  Had red curry chicken, the chicken itself was ...   \n",
       "3  2014-07-16  Alright, I gave the restaurant manager ample t...   \n",
       "4  2014-07-16  Blehhhh :/ this place shouldn't even be in bus...   \n",
       "\n",
       "                  User_ID             Business_ID           Business_Name  \\\n",
       "0  6VxJJX7h36bMCCFt7URg6w  9QqLqYIwV-n1BJPjnaYv8A        Beef 'O' Brady's   \n",
       "1  viGPiPuMZnV4PR_aiA3-qw  pNQwnY_q4okdlnPiR-3RBA           Empire Bagels   \n",
       "2  rwehMCinfBjhZ0IbR1zFBw  shCdCHRbnY5FTMJbWl-myQ             Thai Spices   \n",
       "3  VWqt5IH8fm-k9M0CKFkJzg  HpaYCM_NCauI72LLXxC6SA  Yonaka Modern Japanese   \n",
       "4  Y6-0ToMhjBsm8iYEaT2meg  FC4q3hJyF8oo984xoo3RMg               808 Sushi   \n",
       "\n",
       "    Business_Category       City State   Latitude   Longitude  \\\n",
       "0                Bars   Chandler    AZ  33.303847 -111.946838   \n",
       "1                Food  Las Vegas    NV  36.077299 -115.297979   \n",
       "2                Thai       Mesa    AZ  33.412708 -111.875803   \n",
       "3  Tapas/Small Plates  Las Vegas    NV  36.114935 -115.209737   \n",
       "4          Sushi Bars  Las Vegas    NV  36.052181 -115.279227   \n",
       "\n",
       "   Avg_Business_Star_Rating  \n",
       "0                       3.5  \n",
       "1                       3.5  \n",
       "2                       4.0  \n",
       "3                       4.5  \n",
       "4                       3.5  "
      ]
     },
     "execution_count": 81,
     "metadata": {},
     "output_type": "execute_result"
    }
   ],
   "source": [
    "df.head()"
   ]
  },
  {
   "cell_type": "code",
   "execution_count": 103,
   "id": "5710e4a4-757e-4056-9a84-a916fac2f97e",
   "metadata": {},
   "outputs": [],
   "source": [
    "df['weekday_number'] = df['Review_Date'].dt.weekday"
   ]
  },
  {
   "cell_type": "code",
   "execution_count": 105,
   "id": "bd1427e6-6d51-49b5-b160-020e44c6aede",
   "metadata": {},
   "outputs": [
    {
     "data": {
      "text/html": [
       "<div>\n",
       "<style scoped>\n",
       "    .dataframe tbody tr th:only-of-type {\n",
       "        vertical-align: middle;\n",
       "    }\n",
       "\n",
       "    .dataframe tbody tr th {\n",
       "        vertical-align: top;\n",
       "    }\n",
       "\n",
       "    .dataframe thead th {\n",
       "        text-align: right;\n",
       "    }\n",
       "</style>\n",
       "<table border=\"1\" class=\"dataframe\">\n",
       "  <thead>\n",
       "    <tr style=\"text-align: right;\">\n",
       "      <th></th>\n",
       "      <th>Review_Date</th>\n",
       "      <th>Review_Text</th>\n",
       "      <th>User_ID</th>\n",
       "      <th>Business_ID</th>\n",
       "      <th>Business_Name</th>\n",
       "      <th>Business_Category</th>\n",
       "      <th>City</th>\n",
       "      <th>State</th>\n",
       "      <th>Latitude</th>\n",
       "      <th>Longitude</th>\n",
       "      <th>Avg_Business_Star_Rating</th>\n",
       "      <th>weekday_number</th>\n",
       "    </tr>\n",
       "  </thead>\n",
       "  <tbody>\n",
       "    <tr>\n",
       "      <th>0</th>\n",
       "      <td>2014-07-16</td>\n",
       "      <td>okay...so so</td>\n",
       "      <td>6VxJJX7h36bMCCFt7URg6w</td>\n",
       "      <td>9QqLqYIwV-n1BJPjnaYv8A</td>\n",
       "      <td>Beef 'O' Brady's</td>\n",
       "      <td>Bars</td>\n",
       "      <td>Chandler</td>\n",
       "      <td>AZ</td>\n",
       "      <td>33.303847</td>\n",
       "      <td>-111.946838</td>\n",
       "      <td>3.5</td>\n",
       "      <td>2</td>\n",
       "    </tr>\n",
       "    <tr>\n",
       "      <th>1</th>\n",
       "      <td>2014-07-16</td>\n",
       "      <td>Some people complain about the prices but Subw...</td>\n",
       "      <td>viGPiPuMZnV4PR_aiA3-qw</td>\n",
       "      <td>pNQwnY_q4okdlnPiR-3RBA</td>\n",
       "      <td>Empire Bagels</td>\n",
       "      <td>Food</td>\n",
       "      <td>Las Vegas</td>\n",
       "      <td>NV</td>\n",
       "      <td>36.077299</td>\n",
       "      <td>-115.297979</td>\n",
       "      <td>3.5</td>\n",
       "      <td>2</td>\n",
       "    </tr>\n",
       "    <tr>\n",
       "      <th>2</th>\n",
       "      <td>2014-07-16</td>\n",
       "      <td>Had red curry chicken, the chicken itself was ...</td>\n",
       "      <td>rwehMCinfBjhZ0IbR1zFBw</td>\n",
       "      <td>shCdCHRbnY5FTMJbWl-myQ</td>\n",
       "      <td>Thai Spices</td>\n",
       "      <td>Thai</td>\n",
       "      <td>Mesa</td>\n",
       "      <td>AZ</td>\n",
       "      <td>33.412708</td>\n",
       "      <td>-111.875803</td>\n",
       "      <td>4.0</td>\n",
       "      <td>2</td>\n",
       "    </tr>\n",
       "    <tr>\n",
       "      <th>3</th>\n",
       "      <td>2014-07-16</td>\n",
       "      <td>Alright, I gave the restaurant manager ample t...</td>\n",
       "      <td>VWqt5IH8fm-k9M0CKFkJzg</td>\n",
       "      <td>HpaYCM_NCauI72LLXxC6SA</td>\n",
       "      <td>Yonaka Modern Japanese</td>\n",
       "      <td>Tapas/Small Plates</td>\n",
       "      <td>Las Vegas</td>\n",
       "      <td>NV</td>\n",
       "      <td>36.114935</td>\n",
       "      <td>-115.209737</td>\n",
       "      <td>4.5</td>\n",
       "      <td>2</td>\n",
       "    </tr>\n",
       "    <tr>\n",
       "      <th>4</th>\n",
       "      <td>2014-07-16</td>\n",
       "      <td>Blehhhh :/ this place shouldn't even be in bus...</td>\n",
       "      <td>Y6-0ToMhjBsm8iYEaT2meg</td>\n",
       "      <td>FC4q3hJyF8oo984xoo3RMg</td>\n",
       "      <td>808 Sushi</td>\n",
       "      <td>Sushi Bars</td>\n",
       "      <td>Las Vegas</td>\n",
       "      <td>NV</td>\n",
       "      <td>36.052181</td>\n",
       "      <td>-115.279227</td>\n",
       "      <td>3.5</td>\n",
       "      <td>2</td>\n",
       "    </tr>\n",
       "  </tbody>\n",
       "</table>\n",
       "</div>"
      ],
      "text/plain": [
       "  Review_Date                                        Review_Text  \\\n",
       "0  2014-07-16                                       okay...so so   \n",
       "1  2014-07-16  Some people complain about the prices but Subw...   \n",
       "2  2014-07-16  Had red curry chicken, the chicken itself was ...   \n",
       "3  2014-07-16  Alright, I gave the restaurant manager ample t...   \n",
       "4  2014-07-16  Blehhhh :/ this place shouldn't even be in bus...   \n",
       "\n",
       "                  User_ID             Business_ID           Business_Name  \\\n",
       "0  6VxJJX7h36bMCCFt7URg6w  9QqLqYIwV-n1BJPjnaYv8A        Beef 'O' Brady's   \n",
       "1  viGPiPuMZnV4PR_aiA3-qw  pNQwnY_q4okdlnPiR-3RBA           Empire Bagels   \n",
       "2  rwehMCinfBjhZ0IbR1zFBw  shCdCHRbnY5FTMJbWl-myQ             Thai Spices   \n",
       "3  VWqt5IH8fm-k9M0CKFkJzg  HpaYCM_NCauI72LLXxC6SA  Yonaka Modern Japanese   \n",
       "4  Y6-0ToMhjBsm8iYEaT2meg  FC4q3hJyF8oo984xoo3RMg               808 Sushi   \n",
       "\n",
       "    Business_Category       City State   Latitude   Longitude  \\\n",
       "0                Bars   Chandler    AZ  33.303847 -111.946838   \n",
       "1                Food  Las Vegas    NV  36.077299 -115.297979   \n",
       "2                Thai       Mesa    AZ  33.412708 -111.875803   \n",
       "3  Tapas/Small Plates  Las Vegas    NV  36.114935 -115.209737   \n",
       "4          Sushi Bars  Las Vegas    NV  36.052181 -115.279227   \n",
       "\n",
       "   Avg_Business_Star_Rating  weekday_number  \n",
       "0                       3.5               2  \n",
       "1                       3.5               2  \n",
       "2                       4.0               2  \n",
       "3                       4.5               2  \n",
       "4                       3.5               2  "
      ]
     },
     "execution_count": 105,
     "metadata": {},
     "output_type": "execute_result"
    }
   ],
   "source": [
    "df.head()"
   ]
  },
  {
   "cell_type": "code",
   "execution_count": 155,
   "id": "0053c53f-749d-4a1b-b929-ae8b0609da80",
   "metadata": {},
   "outputs": [
    {
     "data": {
      "text/plain": [
       "weekday_number\n",
       "0    36446\n",
       "1    34262\n",
       "2    34170\n",
       "3    30669\n",
       "4    29574\n",
       "5    29571\n",
       "6    32889\n",
       "Name: Avg_Business_Star_Rating, dtype: int64"
      ]
     },
     "execution_count": 155,
     "metadata": {},
     "output_type": "execute_result"
    }
   ],
   "source": [
    "# Task 5\n",
    "review_counts_by_day = df['Avg_Business_Star_Rating'].groupby(df['weekday_number']).count()\n",
    "review_counts_by_day\n",
    "\n",
    "# The answer is MONDAY"
   ]
  },
  {
   "cell_type": "code",
   "execution_count": 157,
   "id": "12aac8fc-95bf-4d52-b987-fde046a32784",
   "metadata": {},
   "outputs": [
    {
     "data": {
      "text/plain": [
       "Review_Date                   3093\n",
       "Review_Text                 227448\n",
       "User_ID                     100705\n",
       "Business_ID                  30276\n",
       "Business_Name                22676\n",
       "Business_Category              372\n",
       "City                           130\n",
       "State                           15\n",
       "Latitude                     24236\n",
       "Longitude                    24236\n",
       "Avg_Business_Star_Rating         9\n",
       "weekday_number                   7\n",
       "dtype: int64"
      ]
     },
     "execution_count": 157,
     "metadata": {},
     "output_type": "execute_result"
    }
   ],
   "source": [
    "# Task 6\n",
    "df.nunique()"
   ]
  },
  {
   "cell_type": "code",
   "execution_count": 159,
   "id": "4d18fbe9-1353-4572-a702-bfc1260f3753",
   "metadata": {},
   "outputs": [
    {
     "data": {
      "text/html": [
       "<div>\n",
       "<style scoped>\n",
       "    .dataframe tbody tr th:only-of-type {\n",
       "        vertical-align: middle;\n",
       "    }\n",
       "\n",
       "    .dataframe tbody tr th {\n",
       "        vertical-align: top;\n",
       "    }\n",
       "\n",
       "    .dataframe thead th {\n",
       "        text-align: right;\n",
       "    }\n",
       "</style>\n",
       "<table border=\"1\" class=\"dataframe\">\n",
       "  <thead>\n",
       "    <tr style=\"text-align: right;\">\n",
       "      <th></th>\n",
       "      <th>Latitude</th>\n",
       "      <th>Longitude</th>\n",
       "      <th>Avg_Business_Star_Rating</th>\n",
       "      <th>weekday_number</th>\n",
       "    </tr>\n",
       "  </thead>\n",
       "  <tbody>\n",
       "    <tr>\n",
       "      <th>0</th>\n",
       "      <td>33.303847</td>\n",
       "      <td>-111.946838</td>\n",
       "      <td>3.5</td>\n",
       "      <td>2</td>\n",
       "    </tr>\n",
       "    <tr>\n",
       "      <th>1</th>\n",
       "      <td>36.077299</td>\n",
       "      <td>-115.297979</td>\n",
       "      <td>3.5</td>\n",
       "      <td>2</td>\n",
       "    </tr>\n",
       "    <tr>\n",
       "      <th>2</th>\n",
       "      <td>33.412708</td>\n",
       "      <td>-111.875803</td>\n",
       "      <td>4.0</td>\n",
       "      <td>2</td>\n",
       "    </tr>\n",
       "    <tr>\n",
       "      <th>3</th>\n",
       "      <td>36.114935</td>\n",
       "      <td>-115.209737</td>\n",
       "      <td>4.5</td>\n",
       "      <td>2</td>\n",
       "    </tr>\n",
       "    <tr>\n",
       "      <th>4</th>\n",
       "      <td>36.052181</td>\n",
       "      <td>-115.279227</td>\n",
       "      <td>3.5</td>\n",
       "      <td>2</td>\n",
       "    </tr>\n",
       "    <tr>\n",
       "      <th>...</th>\n",
       "      <td>...</td>\n",
       "      <td>...</td>\n",
       "      <td>...</td>\n",
       "      <td>...</td>\n",
       "    </tr>\n",
       "    <tr>\n",
       "      <th>227576</th>\n",
       "      <td>36.092988</td>\n",
       "      <td>-115.177838</td>\n",
       "      <td>4.0</td>\n",
       "      <td>1</td>\n",
       "    </tr>\n",
       "    <tr>\n",
       "      <th>227577</th>\n",
       "      <td>43.072720</td>\n",
       "      <td>-89.384389</td>\n",
       "      <td>4.0</td>\n",
       "      <td>3</td>\n",
       "    </tr>\n",
       "    <tr>\n",
       "      <th>227578</th>\n",
       "      <td>43.083166</td>\n",
       "      <td>-89.364985</td>\n",
       "      <td>4.0</td>\n",
       "      <td>3</td>\n",
       "    </tr>\n",
       "    <tr>\n",
       "      <th>227579</th>\n",
       "      <td>36.112024</td>\n",
       "      <td>-115.174593</td>\n",
       "      <td>4.0</td>\n",
       "      <td>1</td>\n",
       "    </tr>\n",
       "    <tr>\n",
       "      <th>227580</th>\n",
       "      <td>36.112629</td>\n",
       "      <td>-115.172653</td>\n",
       "      <td>3.0</td>\n",
       "      <td>0</td>\n",
       "    </tr>\n",
       "  </tbody>\n",
       "</table>\n",
       "<p>227581 rows × 4 columns</p>\n",
       "</div>"
      ],
      "text/plain": [
       "         Latitude   Longitude  Avg_Business_Star_Rating  weekday_number\n",
       "0       33.303847 -111.946838                       3.5               2\n",
       "1       36.077299 -115.297979                       3.5               2\n",
       "2       33.412708 -111.875803                       4.0               2\n",
       "3       36.114935 -115.209737                       4.5               2\n",
       "4       36.052181 -115.279227                       3.5               2\n",
       "...           ...         ...                       ...             ...\n",
       "227576  36.092988 -115.177838                       4.0               1\n",
       "227577  43.072720  -89.384389                       4.0               3\n",
       "227578  43.083166  -89.364985                       4.0               3\n",
       "227579  36.112024 -115.174593                       4.0               1\n",
       "227580  36.112629 -115.172653                       3.0               0\n",
       "\n",
       "[227581 rows x 4 columns]"
      ]
     },
     "execution_count": 159,
     "metadata": {},
     "output_type": "execute_result"
    }
   ],
   "source": [
    "numerical_columns = df.select_dtypes(include=['number'])\n",
    "numerical_columns"
   ]
  },
  {
   "cell_type": "code",
   "execution_count": 167,
   "id": "d5c61bf4-67e6-41a5-8c88-ad0ca73bc354",
   "metadata": {},
   "outputs": [
    {
     "name": "stdout",
     "output_type": "stream",
     "text": [
      "0   3.7213548811940953\n",
      "1   3.7252641410308795\n",
      "2   3.7337576821773486\n",
      "3   3.7390361602921516\n",
      "4   3.7317745316832354\n",
      "5   3.734689391633695\n",
      "6   3.7153911642190396\n"
     ]
    }
   ],
   "source": [
    "review_sum_by_day = df['Avg_Business_Star_Rating'].groupby(df['weekday_number']).sum()\n",
    "\n",
    "for i in range(7):\n",
    "    print(i, ' ', review_sum_by_day[i] / review_counts_by_day[i])"
   ]
  },
  {
   "cell_type": "code",
   "execution_count": 145,
   "id": "b364eb51-812e-4acf-b848-d7ad20ca0b13",
   "metadata": {},
   "outputs": [
    {
     "data": {
      "text/plain": [
       "array([[<Axes: title={'center': 'Avg_Business_Star_Rating'}>]],\n",
       "      dtype=object)"
      ]
     },
     "execution_count": 145,
     "metadata": {},
     "output_type": "execute_result"
    },
    {
     "data": {
      "image/png": "[encoded data removed]",
      "text/plain": [
       "<Figure size 640x480 with 1 Axes>"
      ]
     },
     "metadata": {},
     "output_type": "display_data"
    }
   ],
   "source": [
    "df.hist(column=\"Avg_Business_Star_Rating\")\n",
    "#First trend is almost all the customers gives 4 point rate on average"
   ]
  },
  {
   "cell_type": "code",
   "execution_count": 177,
   "id": "62075dd7-37cb-4497-8e30-2b8461633524",
   "metadata": {},
   "outputs": [
    {
     "name": "stdout",
     "output_type": "stream",
     "text": [
      "day_of_month\n",
      "1     3.734448\n",
      "2     3.723328\n",
      "3     3.736961\n",
      "4     3.726817\n",
      "5     3.720929\n",
      "6     3.734162\n",
      "7     3.729194\n",
      "8     3.737954\n",
      "9     3.726158\n",
      "10    3.730023\n",
      "11    3.733970\n",
      "12    3.731610\n",
      "13    3.731980\n",
      "14    3.728672\n",
      "15    3.726858\n",
      "16    3.736155\n",
      "17    3.728599\n",
      "18    3.735586\n",
      "19    3.719494\n",
      "20    3.723160\n",
      "21    3.724638\n",
      "22    3.727455\n",
      "23    3.736316\n",
      "24    3.719646\n",
      "25    3.723291\n",
      "26    3.725490\n",
      "27    3.733756\n",
      "28    3.728587\n",
      "29    3.720285\n",
      "30    3.723273\n",
      "31    3.712660\n",
      "Name: Avg_Business_Star_Rating, dtype: float64\n"
     ]
    }
   ],
   "source": [
    "review_sum_by_month_days = df['Avg_Business_Star_Rating'].groupby(df['day_of_month']).sum()\n",
    "review_count_by_month_days = df['Avg_Business_Star_Rating'].groupby(df['day_of_month']).count()\n",
    "print(review_sum_by_month_days/review_count_by_month_days)"
   ]
  },
  {
   "cell_type": "code",
   "execution_count": 183,
   "id": "9c4e034b-2749-4385-a50b-087a9b2d3136",
   "metadata": {},
   "outputs": [
    {
     "name": "stdout",
     "output_type": "stream",
     "text": [
      "State\n",
      "AZ     3.756466\n",
      "CA     3.500000\n",
      "EDH    3.849352\n",
      "ELN    3.357143\n",
      "FIF    3.166667\n",
      "GA     3.500000\n",
      "KHL    3.500000\n",
      "MLN    3.883621\n",
      "MN     5.000000\n",
      "NC     4.000000\n",
      "NTH    2.000000\n",
      "NV     3.700233\n",
      "NY     5.000000\n",
      "ON     3.707014\n",
      "WI     3.729755\n",
      "Name: Avg_Business_Star_Rating, dtype: float64\n"
     ]
    }
   ],
   "source": [
    "#Task 7\n",
    "review_sum_by_states = df['Avg_Business_Star_Rating'].groupby(df['State']).sum()\n",
    "review_count_by_states = df['Avg_Business_Star_Rating'].groupby(df['State']).count()\n",
    "print(review_sum_by_states/review_count_by_states)"
   ]
  },
  {
   "cell_type": "code",
   "execution_count": 185,
   "id": "a042584d-7df3-4566-82a4-356076f4b04e",
   "metadata": {},
   "outputs": [],
   "source": [
    "#Do not open your business in NTH, choose appropriate places such as NY and MN states"
   ]
  },
  {
   "cell_type": "code",
   "execution_count": null,
   "id": "0a46455b-b97d-480e-af1a-ea08e6f74421",
   "metadata": {},
   "outputs": [],
   "source": [
    "#Task 8\n"
   ]
  }
 ],
 "metadata": {
  "kernelspec": {
   "display_name": "Python 3 (ipykernel)",
   "language": "python",
   "name": "python3"
  },
  "language_info": {
   "codemirror_mode": {
    "name": "ipython",
    "version": 3
   },
   "file_extension": ".py",
   "mimetype": "text/x-python",
   "name": "python",
   "nbconvert_exporter": "python",
   "pygments_lexer": "ipython3",
   "version": "3.12.4"
  }
 },
 "nbformat": 4,
 "nbformat_minor": 5
}
