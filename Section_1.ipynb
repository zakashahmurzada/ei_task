{
 "cells": [
  {
   "cell_type": "code",
   "execution_count": 1,
   "id": "0ebe1761-b578-4d24-9efa-8049a406ed61",
   "metadata": {},
   "outputs": [],
   "source": [
    "import pandas as pd\n",
    "import numpy as np"
   ]
  },
  {
   "cell_type": "code",
   "execution_count": 2,
   "id": "c5e36f50-1abf-45e9-817c-7556911e0bfc",
   "metadata": {},
   "outputs": [],
   "source": [
    "df = pd.read_csv(\"section_1_data.csv\")"
   ]
  },
  {
   "cell_type": "code",
   "execution_count": 4,
   "id": "de7507c1-7bd8-496d-8dbb-e1d39661faea",
   "metadata": {},
   "outputs": [
    {
     "data": {
      "text/html": [
       "<div>\n",
       "<style scoped>\n",
       "    .dataframe tbody tr th:only-of-type {\n",
       "        vertical-align: middle;\n",
       "    }\n",
       "\n",
       "    .dataframe tbody tr th {\n",
       "        vertical-align: top;\n",
       "    }\n",
       "\n",
       "    .dataframe thead th {\n",
       "        text-align: right;\n",
       "    }\n",
       "</style>\n",
       "<table border=\"1\" class=\"dataframe\">\n",
       "  <thead>\n",
       "    <tr style=\"text-align: right;\">\n",
       "      <th></th>\n",
       "      <th>Review_Date</th>\n",
       "      <th>Review_Text</th>\n",
       "      <th>User_ID</th>\n",
       "      <th>Business_ID</th>\n",
       "      <th>Business_Name</th>\n",
       "      <th>Business_Category</th>\n",
       "      <th>City</th>\n",
       "      <th>State</th>\n",
       "      <th>Latitude</th>\n",
       "      <th>Longitude</th>\n",
       "      <th>Avg_Business_Star_Rating</th>\n",
       "    </tr>\n",
       "  </thead>\n",
       "  <tbody>\n",
       "    <tr>\n",
       "      <th>0</th>\n",
       "      <td>2014-07-16</td>\n",
       "      <td>okay...so so</td>\n",
       "      <td>6VxJJX7h36bMCCFt7URg6w</td>\n",
       "      <td>9QqLqYIwV-n1BJPjnaYv8A</td>\n",
       "      <td>Beef 'O' Brady's</td>\n",
       "      <td>Bars</td>\n",
       "      <td>Chandler</td>\n",
       "      <td>AZ</td>\n",
       "      <td>33.303847</td>\n",
       "      <td>-111.946838</td>\n",
       "      <td>3.5</td>\n",
       "    </tr>\n",
       "    <tr>\n",
       "      <th>1</th>\n",
       "      <td>2014-07-16</td>\n",
       "      <td>Some people complain about the prices but Subw...</td>\n",
       "      <td>viGPiPuMZnV4PR_aiA3-qw</td>\n",
       "      <td>pNQwnY_q4okdlnPiR-3RBA</td>\n",
       "      <td>Empire Bagels</td>\n",
       "      <td>Food</td>\n",
       "      <td>Las Vegas</td>\n",
       "      <td>NV</td>\n",
       "      <td>36.077299</td>\n",
       "      <td>-115.297979</td>\n",
       "      <td>3.5</td>\n",
       "    </tr>\n",
       "    <tr>\n",
       "      <th>2</th>\n",
       "      <td>2014-07-16</td>\n",
       "      <td>Had red curry chicken, the chicken itself was ...</td>\n",
       "      <td>rwehMCinfBjhZ0IbR1zFBw</td>\n",
       "      <td>shCdCHRbnY5FTMJbWl-myQ</td>\n",
       "      <td>Thai Spices</td>\n",
       "      <td>Thai</td>\n",
       "      <td>Mesa</td>\n",
       "      <td>AZ</td>\n",
       "      <td>33.412708</td>\n",
       "      <td>-111.875803</td>\n",
       "      <td>4.0</td>\n",
       "    </tr>\n",
       "    <tr>\n",
       "      <th>3</th>\n",
       "      <td>2014-07-16</td>\n",
       "      <td>Alright, I gave the restaurant manager ample t...</td>\n",
       "      <td>VWqt5IH8fm-k9M0CKFkJzg</td>\n",
       "      <td>HpaYCM_NCauI72LLXxC6SA</td>\n",
       "      <td>Yonaka Modern Japanese</td>\n",
       "      <td>Tapas/Small Plates</td>\n",
       "      <td>Las Vegas</td>\n",
       "      <td>NV</td>\n",
       "      <td>36.114935</td>\n",
       "      <td>-115.209737</td>\n",
       "      <td>4.5</td>\n",
       "    </tr>\n",
       "    <tr>\n",
       "      <th>4</th>\n",
       "      <td>2014-07-16</td>\n",
       "      <td>Blehhhh :/ this place shouldn't even be in bus...</td>\n",
       "      <td>Y6-0ToMhjBsm8iYEaT2meg</td>\n",
       "      <td>FC4q3hJyF8oo984xoo3RMg</td>\n",
       "      <td>808 Sushi</td>\n",
       "      <td>Sushi Bars</td>\n",
       "      <td>Las Vegas</td>\n",
       "      <td>NV</td>\n",
       "      <td>36.052181</td>\n",
       "      <td>-115.279227</td>\n",
       "      <td>3.5</td>\n",
       "    </tr>\n",
       "  </tbody>\n",
       "</table>\n",
       "</div>"
      ],
      "text/plain": [
       "  Review_Date                                        Review_Text  \\\n",
       "0  2014-07-16                                       okay...so so   \n",
       "1  2014-07-16  Some people complain about the prices but Subw...   \n",
       "2  2014-07-16  Had red curry chicken, the chicken itself was ...   \n",
       "3  2014-07-16  Alright, I gave the restaurant manager ample t...   \n",
       "4  2014-07-16  Blehhhh :/ this place shouldn't even be in bus...   \n",
       "\n",
       "                  User_ID             Business_ID           Business_Name  \\\n",
       "0  6VxJJX7h36bMCCFt7URg6w  9QqLqYIwV-n1BJPjnaYv8A        Beef 'O' Brady's   \n",
       "1  viGPiPuMZnV4PR_aiA3-qw  pNQwnY_q4okdlnPiR-3RBA           Empire Bagels   \n",
       "2  rwehMCinfBjhZ0IbR1zFBw  shCdCHRbnY5FTMJbWl-myQ             Thai Spices   \n",
       "3  VWqt5IH8fm-k9M0CKFkJzg  HpaYCM_NCauI72LLXxC6SA  Yonaka Modern Japanese   \n",
       "4  Y6-0ToMhjBsm8iYEaT2meg  FC4q3hJyF8oo984xoo3RMg               808 Sushi   \n",
       "\n",
       "    Business_Category       City State   Latitude   Longitude  \\\n",
       "0                Bars   Chandler    AZ  33.303847 -111.946838   \n",
       "1                Food  Las Vegas    NV  36.077299 -115.297979   \n",
       "2                Thai       Mesa    AZ  33.412708 -111.875803   \n",
       "3  Tapas/Small Plates  Las Vegas    NV  36.114935 -115.209737   \n",
       "4          Sushi Bars  Las Vegas    NV  36.052181 -115.279227   \n",
       "\n",
       "   Avg_Business_Star_Rating  \n",
       "0                       3.5  \n",
       "1                       3.5  \n",
       "2                       4.0  \n",
       "3                       4.5  \n",
       "4                       3.5  "
      ]
     },
     "execution_count": 4,
     "metadata": {},
     "output_type": "execute_result"
    }
   ],
   "source": [
    "df.head()"
   ]
  },
  {
   "cell_type": "code",
   "execution_count": 8,
   "id": "b1597ee6-94b3-411e-bff2-2149802177d4",
   "metadata": {},
   "outputs": [
    {
     "data": {
      "text/plain": [
       "30276"
      ]
     },
     "execution_count": 8,
     "metadata": {},
     "output_type": "execute_result"
    }
   ],
   "source": [
    "#Task 1\n",
    "uni_res = df['Business_ID'].nunique()\n",
    "uni_res"
   ]
  },
  {
   "cell_type": "code",
   "execution_count": 17,
   "id": "0e62b14a-d241-436a-9aa7-550eded59dd4",
   "metadata": {},
   "outputs": [
    {
     "name": "stdout",
     "output_type": "stream",
     "text": [
      "0.0037612981751552195\n",
      "Mon Ami Gabi\n"
     ]
    }
   ],
   "source": [
    "#Task 2\n",
    "review_res = df['Business_ID'].value_counts()\n",
    "high_rev_id = review_res.idxmax()\n",
    "high_name = df[df['Business_ID'] == high_rev_id]['Business_Name'].iloc[0]\n",
    "high_percentage = (review_res.max() / len(df)) * 100\n",
    "print(high_percentage)\n",
    "print(high_name)"
   ]
  },
  {
   "cell_type": "code",
   "execution_count": 21,
   "id": "9fd332bf-9240-4a80-a64b-4e28cf77e3d1",
   "metadata": {},
   "outputs": [
    {
     "name": "stdout",
     "output_type": "stream",
     "text": [
      "['Las Vegas' 'Henderson' 'Boulder City' 'Nellis']\n"
     ]
    }
   ],
   "source": [
    "#Task 3\n",
    "five_stars = df[(df['State'] == 'NV') & (df['Avg_Business_Star_Rating'] == 5)]\n",
    "citys_five_stars = five_stars['City'].unique()\n",
    "\n",
    "print(citys_five_stars)"
   ]
  },
  {
   "cell_type": "code",
   "execution_count": 22,
   "id": "3c1d6a13-590b-427b-b5f8-4c9fca10d6eb",
   "metadata": {},
   "outputs": [
    {
     "ename": "NameError",
     "evalue": "name 'dataset' is not defined",
     "output_type": "error",
     "traceback": [
      "\u001b[1;31m---------------------------------------------------------------------------\u001b[0m",
      "\u001b[1;31mNameError\u001b[0m                                 Traceback (most recent call last)",
      "Cell \u001b[1;32mIn[22], line 2\u001b[0m\n\u001b[0;32m      1\u001b[0m \u001b[38;5;66;03m#Task 4\u001b[39;00m\n\u001b[1;32m----> 2\u001b[0m hotels_and_travel_reviews \u001b[38;5;241m=\u001b[39m \u001b[43mdataset\u001b[49m[dataset[\u001b[38;5;124m'\u001b[39m\u001b[38;5;124mBusiness_Category\u001b[39m\u001b[38;5;124m'\u001b[39m] \u001b[38;5;241m==\u001b[39m \u001b[38;5;124m'\u001b[39m\u001b[38;5;124mHotels & Travel\u001b[39m\u001b[38;5;124m'\u001b[39m]\n\u001b[0;32m      3\u001b[0m reviews_per_city \u001b[38;5;241m=\u001b[39m hotels_and_travel_reviews[\u001b[38;5;124m'\u001b[39m\u001b[38;5;124mCity\u001b[39m\u001b[38;5;124m'\u001b[39m]\u001b[38;5;241m.\u001b[39mvalue_counts()\n\u001b[0;32m      4\u001b[0m highest_reviewed_city \u001b[38;5;241m=\u001b[39m reviews_per_city\u001b[38;5;241m.\u001b[39midxmax()\n",
      "\u001b[1;31mNameError\u001b[0m: name 'dataset' is not defined"
     ]
    }
   ],
   "source": [
    "#Task 4\n",
    "hotels_and_travel_reviews = df[df['Business_Category'] == 'Hotels & Travel']\n",
    "reviews_per_city = hotels_and_travel_reviews['City'].value_counts()\n",
    "highest_reviewed_city = reviews_per_city.idxmax()\n",
    "highest_reviewed_city_percentage = (reviews_per_city.max() / len(hotels_and_travel_reviews)) * 100\n",
    "    "
   ]
  }
 ],
 "metadata": {
  "kernelspec": {
   "display_name": "Python 3 (ipykernel)",
   "language": "python",
   "name": "python3"
  },
  "language_info": {
   "codemirror_mode": {
    "name": "ipython",
    "version": 3
   },
   "file_extension": ".py",
   "mimetype": "text/x-python",
   "name": "python",
   "nbconvert_exporter": "python",
   "pygments_lexer": "ipython3",
   "version": "3.12.5"
  }
 },
 "nbformat": 4,
 "nbformat_minor": 5
}
